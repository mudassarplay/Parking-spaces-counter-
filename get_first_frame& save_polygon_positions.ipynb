{
 "cells": [
  {
   "cell_type": "code",
   "execution_count": 1,
   "id": "5f6e3367-3272-4d6e-9dad-00d60ff99d4f",
   "metadata": {},
   "outputs": [
    {
     "name": "stdout",
     "output_type": "stream",
     "text": [
      " First frame extracted and image saved.\n",
      "✅ Parking slot points saved.\n"
     ]
    }
   ],
   "source": [
    "import cv2\n",
    "import pickle\n",
    "\n",
    "# ---------- CONFIGURATION ----------\n",
    "slot_width = 100\n",
    "slot_height = 44\n",
    "points = []\n",
    "\n",
    "# ---------- MOUSE CALLBACK FUNCTION ----------\n",
    "def mouseClick(events, x, y, flags, params):\n",
    "    if events == cv2.EVENT_LBUTTONDOWN:\n",
    "        points.append([(x, y)])\n",
    "    elif events == cv2.EVENT_RBUTTONDOWN:\n",
    "        if points:\n",
    "            points.pop()\n",
    "\n",
    "# ---------- READ FIRST FRAME DIRECTLY ----------\n",
    "video_path = 'sample.mp4'\n",
    "cap = cv2.VideoCapture(video_path)\n",
    "ret, frame = cap.read()\n",
    "cap.release()\n",
    "\n",
    "if not ret or frame is None:\n",
    "    print(\" Failed to read the first frame from the video.\")\n",
    "    exit()\n",
    "\n",
    "# (Optional) Save frame as backup image\n",
    "cv2.imwrite(\"first_frame.jpg\", frame)\n",
    "print(\" First frame extracted and image saved.\")\n",
    "\n",
    "# ---------- SETUP WINDOW FOR POLYGON DRAWING ----------\n",
    "cv2.namedWindow(\"Image\")\n",
    "cv2.setMouseCallback(\"Image\", mouseClick)\n",
    "\n",
    "while True:\n",
    "    img_copy = frame.copy()\n",
    "\n",
    "    # Draw rectangles\n",
    "    for point in points:\n",
    "        x, y = point[0]\n",
    "        cv2.rectangle(img_copy, (x, y), (x + slot_width, y + slot_height), (0, 255, 0), 2)\n",
    "\n",
    "    cv2.putText(img_copy, f\"Total Slots: {len(points)}\", (10, 20),\n",
    "                cv2.FONT_HERSHEY_SIMPLEX, 0.6, (255, 255, 255), 2)\n",
    "\n",
    "    cv2.imshow(\"Image\", img_copy)\n",
    "    key = cv2.waitKey(1)\n",
    "\n",
    "    # Save on 's'\n",
    "    if key == ord('s'):\n",
    "        with open(\"ParkingSlotPoints.pkl\", \"wb\") as f:\n",
    "            pickle.dump(points, f)\n",
    "        print(\"✅ Parking slot points saved.\")\n",
    "        break\n",
    "\n",
    "    # Quit on 'q'\n",
    "    if key == ord('q'):\n",
    "        print(\"❌ Quit without saving.\")\n",
    "        break\n",
    "\n",
    "cv2.destroyAllWindows()\n"
   ]
  },
  {
   "cell_type": "code",
   "execution_count": null,
   "id": "33a3edc5-6d80-4732-b804-52aea488e83e",
   "metadata": {},
   "outputs": [],
   "source": []
  }
 ],
 "metadata": {
  "kernelspec": {
   "display_name": "Python 3 (ipykernel)",
   "language": "python",
   "name": "python3"
  },
  "language_info": {
   "codemirror_mode": {
    "name": "ipython",
    "version": 3
   },
   "file_extension": ".py",
   "mimetype": "text/x-python",
   "name": "python",
   "nbconvert_exporter": "python",
   "pygments_lexer": "ipython3",
   "version": "3.10.18"
  }
 },
 "nbformat": 4,
 "nbformat_minor": 5
}
